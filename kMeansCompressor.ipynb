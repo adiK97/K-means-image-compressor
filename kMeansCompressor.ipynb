{
 "cells": [
  {
   "cell_type": "code",
   "execution_count": null,
   "metadata": {},
   "outputs": [],
   "source": [
    "!pip install scikit-image"
   ]
  },
  {
   "cell_type": "code",
   "execution_count": 1,
   "metadata": {},
   "outputs": [],
   "source": [
    "from skimage import io\n",
    "import numpy as np\n",
    "import random\n",
    "import os\n",
    "import pandas as pd\n",
    "import statistics\n",
    "from prettytable import PrettyTable\n",
    "import math"
   ]
  },
  {
   "cell_type": "code",
   "execution_count": 3,
   "metadata": {},
   "outputs": [],
   "source": [
    "\n",
    "def readImage(name):\n",
    "    image = io.imread('hw3_part2_data/'+name)\n",
    "    rows = image.shape[0]\n",
    "    cols = image.shape[1]\n",
    "    image = image.reshape(rows*cols, 3)\n",
    "    return image , rows, cols\n"
   ]
  },
  {
   "cell_type": "code",
   "execution_count": 36,
   "metadata": {},
   "outputs": [],
   "source": [
    "# you can write to stdout for debugging purposes, e.g.\n",
    "# print(\"this is a debug message\")\n",
    "import math \n",
    "\n",
    "def solution(A, B):\n",
    "    # write your code in Python 3.6\n",
    "    a = base10(A)\n",
    "    b = base10(B)  \n",
    "    # print(a+b)\n",
    "    t = base2(int(a+b) )\n",
    "    # print(t)\n",
    "    # print(base10([1,1,0,1,0,0,0,0,0,1,1,0,0,1]))\n",
    "    return (t)  \n",
    "\n",
    "\n",
    "def base10(A):\n",
    "    a=0\n",
    "    for i in range(len(A)):\n",
    "        a += A[i]*math.pow(-2,i)\n",
    "    return a\n",
    "\n",
    "\n",
    "def base2(a):\n",
    "    # print(a)\n",
    "\n",
    "    if a == 0:\n",
    "            digits = 0\n",
    "    else:\n",
    "        digits = []\n",
    "        while a != 0:\n",
    "            a, r = divmod(a, -2)\n",
    "            if r < 0:\n",
    "                a, r = a + 1, r + 2\n",
    "            digits.append(r)\n",
    "    return digits"
   ]
  },
  {
   "cell_type": "code",
   "execution_count": null,
   "metadata": {},
   "outputs": [],
   "source": [
    "# you can write to stdout for debugging purposes, e.g.\n",
    "# print(\"this is a debug message\")\n",
    "\n",
    "def solution(S):\n",
    "    # write your code in Python 3.6\n",
    "    count = 0\n",
    "    for i in S:\n",
    "        if i == 'a':\n",
    "            count += 1\n",
    "\n",
    "    if (count % 3 != 0):\n",
    "        return 0\n",
    "\n",
    "    ans = 0\n",
    "    x = count // 3\n",
    "    sum = 0\n",
    "\n",
    "    y = {}\n",
    "\n",
    "    for i in range(len(S)):\n",
    "        if S[i] == 'a':\n",
    "            sum += 1\n",
    "        if (sum == 2 * x and x in y and i < len(S) - 1 and i > 0):\n",
    "            ans += y[x]\n",
    "        if sum in y:\n",
    "            y[sum] += 1\n",
    "        else:\n",
    "            y[sum] = 1\n",
    "\n",
    "    return ans"
   ]
  },
  {
   "cell_type": "code",
   "execution_count": null,
   "metadata": {},
   "outputs": [],
   "source": [
    "# you can write to stdout for debugging purposes, e.g.\n",
    "# print(\"this is a debug message\")\n",
    "\n",
    "def solution(A):\n",
    "    # write your code in Python 3.6\n",
    "    setBits = [0 for i in range(32)]\n",
    "\n",
    "    for i in range(len(A)):\n",
    "        j = 31\n",
    "        while(A[i] > 0 ):\n",
    "            if(A[i] &1 == 1):\n",
    "                setBits[j] += 1\n",
    "            A[i] = A[i] >> 1\n",
    "            j-=1\n",
    "            # print(max(setBits))\n",
    "    return max(setBits)\n"
   ]
  },
  {
   "cell_type": "code",
   "execution_count": 37,
   "metadata": {},
   "outputs": [
    {
     "name": "stdout",
     "output_type": "stream",
     "text": [
      "3334\n",
      "-7689.0\n"
     ]
    },
    {
     "data": {
      "text/plain": [
       "[0, 1, 0, 1, 1, 0, 0, 0, 1, 0, 1, 1, 1]"
      ]
     },
     "execution_count": 37,
     "metadata": {},
     "output_type": "execute_result"
    }
   ],
   "source": [
    "solution([0, 1, 1, 0, 0, 1, 0, 1, 1, 1, 0, 1, 0, 1, 1] , [0, 0, 1, 0, 0, 1, 1, 1, 1, 1, 0, 1])"
   ]
  },
  {
   "cell_type": "code",
   "execution_count": 4,
   "metadata": {},
   "outputs": [],
   "source": [
    "def kMeans(k, data, tolerence = 0.01,  maxIterations = 300):\n",
    "\n",
    "    centroid = {}\n",
    "\n",
    "    for i in range(k):\n",
    "        centroid[i] = data[random.randint(0,len(data))]\n",
    "        \n",
    "    for i in range(maxIterations):\n",
    "        \n",
    "        clusters = {}\n",
    "        for i in range(k):\n",
    "            clusters[i] = []\n",
    "\n",
    "        for d in data:\n",
    "            distances = [np.linalg.norm(d-centroid[c]) for c in centroid]\n",
    "            cluster = distances.index(min(distances))\n",
    "            clusters[cluster].append(d)\n",
    "\n",
    "        temp = centroid\n",
    "        for cluster in clusters:\n",
    "            temp[cluster] = np.average(clusters[cluster],axis=0)\n",
    "\n",
    "        for c in centroid:\n",
    "             if np.sum((temp[c]-centroid[c])/centroid[c]*100.0) < tolerence:\n",
    "                return centroid\n",
    "\n",
    "    return centroid\n",
    "            \n",
    "\n"
   ]
  },
  {
   "cell_type": "code",
   "execution_count": 5,
   "metadata": {},
   "outputs": [],
   "source": [
    "def getCluster(centroids , data):\n",
    "    dist = [np.linalg.norm(data-centroids[c]) for c in centroids]\n",
    "    cluster = dist.index(min(dist))\n",
    "    return cluster"
   ]
  },
  {
   "cell_type": "code",
   "execution_count": null,
   "metadata": {},
   "outputs": [],
   "source": [
    "k = [2, 5, 10, 15, 20]\n",
    "\n",
    "\n",
    "penguinFileSizes = []\n",
    "koalaFileSizes = []\n",
    "\n",
    "for z in range(3,5):\n",
    "    for i in k:\n",
    "        penguin , penguinRows, penguinCols = readImage('Penguins.jpg')\n",
    "        koala,koalaRows,koalaCols = readImage('Koala.jpg')\n",
    "\n",
    "        penguinCentroids = kMeans(i, penguin)\n",
    "        koalaCentroids = kMeans(i, koala)\n",
    "\n",
    "        for j in range(len(penguin)):\n",
    "            penguin[j] = penguinCentroids[getCluster(penguinCentroids , penguin[j])]\n",
    "\n",
    "        for j in range(len(koala)):\n",
    "            koala[j] = koalaCentroids[getCluster(koalaCentroids , koala[j])]\n",
    "        \n",
    "        penguin = np.clip(penguin.astype('uint8'), 0, 255)\n",
    "        penguin = penguin.reshape(penguinRows, penguinCols, 3)\n",
    "\n",
    "        io.imsave('kmeansCompressed/penguins_iteration'+str(z)+'_Kvalue_'+str(i)+'.png', penguin)\n",
    "        io.imsave('temp.png', penguin)\n",
    "        \n",
    "        imgSize = os.path.getsize('temp.png')\n",
    "        penguinFileSizes.append([i, imgSize])\n",
    "\n",
    "        io.imshow(penguin)\n",
    "        io.show()\n",
    "\n",
    "        koala = np.clip(koala.astype('uint8'), 0, 255)\n",
    "        koala = koala.reshape(koalaRows, koalaCols, 3)\n",
    "\n",
    "        io.imsave('kmeansCompressed/koala_iteration'+str(z)+'_Kvalue_'+str(i)+'.png', koala)\n",
    "        io.imsave('temp.png', koala)\n",
    "        \n",
    "        imgSize = os.path.getsize('temp.png')\n",
    "        koalaFileSizes.append([i, imgSize])\n",
    "        io.imshow(koala)\n",
    "        io.show()\n",
    "\n",
    "\n"
   ]
  },
  {
   "cell_type": "code",
   "execution_count": 78,
   "metadata": {},
   "outputs": [],
   "source": [
    "koalaFileSize_original = os.path.getsize('hw3_part2_data/Koala.jpg')\n",
    "penguinFileSize_original = os.path.getsize('hw3_part2_data/Penguins.jpg')\n"
   ]
  },
  {
   "cell_type": "code",
   "execution_count": 108,
   "metadata": {},
   "outputs": [],
   "source": [
    "koalaCompressionRatios = {}\n",
    "penguinCompressionRatios = {}\n",
    "\n",
    "for i in koalaFileSizes:\n",
    "    koalaCompressionRatios[i[0]] = []\n",
    "\n",
    "for i in penguinFileSizes:\n",
    "    penguinCompressionRatios[i[0]] = []\n",
    "\n"
   ]
  },
  {
   "cell_type": "code",
   "execution_count": 111,
   "metadata": {},
   "outputs": [],
   "source": [
    "for i in koalaFileSizes:\n",
    "    temp = koalaCompressionRatios[i[0]]\n",
    "    temp.append(koalaFileSize_original/i[1])\n",
    "    koalaCompressionRatios[i[0]] = temp\n",
    "\n",
    "for i in penguinFileSizes:\n",
    "    temp = penguinCompressionRatios[i[0]]\n",
    "    temp.append(penguinFileSize_original/i[1])\n",
    "    penguinCompressionRatios[i[0]] = temp\n",
    "\n"
   ]
  },
  {
   "cell_type": "code",
   "execution_count": 114,
   "metadata": {},
   "outputs": [],
   "source": [
    "    koalaMeans = {}\n",
    "    koalaVariances = {}\n",
    "    \n",
    "    penguinMeans = {}\n",
    "    penguinVariances = {}\n",
    "\n",
    "    for i in k:\n",
    "        koalaMeans[i] = statistics.mean(koalaCompressionRatios[i]) \n",
    "        koalaVariances[i] = statistics.variance(koalaCompressionRatios[i])\n",
    "        \n",
    "        penguinMeans[i] = statistics.mean(penguinCompressionRatios[i]) \n",
    "        penguinVariances[i] = statistics.variance(penguinCompressionRatios[i])\n",
    "\n",
    "\n"
   ]
  },
  {
   "cell_type": "code",
   "execution_count": 117,
   "metadata": {},
   "outputs": [
    {
     "name": "stdout",
     "output_type": "stream",
     "text": [
      "{2: 14.613490389462081, 5: 4.732657188914341, 10: 2.5249830305636336, 15: 1.9813848879415705, 20: 1.5818116426608821}\n",
      "{2: 3.662820221371282, 5: 0.15974463439292386, 10: 0.0498230630772209, 15: 0.02037452833324507, 20: 0.001875524392604616}\n",
      "\n",
      "{2: 22.060630654523234, 5: 9.519260058565008, 10: 5.091514132540216, 15: 4.019071269317014, 20: 3.2004469815116656}\n",
      "{2: 6.318805189090738, 5: 0.6436119439070518, 10: 0.1506698698283362, 15: 0.28350940048854384, 20: 0.13625585193261566}\n"
     ]
    }
   ],
   "source": [
    "print(koalaMeans)\n",
    "print(koalaVariances)\n",
    "print()\n",
    "print(penguinMeans)\n",
    "print(penguinVariances)"
   ]
  }
 ],
 "metadata": {
  "interpreter": {
   "hash": "531b0134987c0aafae321ed1cd8f9e42c457322123fad9ee871b5aa55e2a1c2c"
  },
  "kernelspec": {
   "display_name": "Python 3.9.6 64-bit ('hw1': conda)",
   "name": "python3"
  },
  "language_info": {
   "codemirror_mode": {
    "name": "ipython",
    "version": 3
   },
   "file_extension": ".py",
   "mimetype": "text/x-python",
   "name": "python",
   "nbconvert_exporter": "python",
   "pygments_lexer": "ipython3",
   "version": "3.9.6"
  },
  "orig_nbformat": 4
 },
 "nbformat": 4,
 "nbformat_minor": 2
}
